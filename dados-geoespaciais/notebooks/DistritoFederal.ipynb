{
 "cells": [
  {
   "cell_type": "markdown",
   "metadata": {},
   "source": [
    "# Análise de Furtos ao Patrimônio no Distrito Federal\n"
   ]
  },
  {
   "attachments": {},
   "cell_type": "markdown",
   "metadata": {},
   "source": [
    "<p align=\"center\">\n",
    "  <img src=\"../img/imagedf.jpg\" alt=\"Região do Distrito Federal\">\n",
    "</p>\n",
    "\n"
   ]
  },
  {
   "attachments": {},
   "cell_type": "markdown",
   "metadata": {},
   "source": [
    "#### Contextualização do Problema\n",
    "\n",
    "###### <h5> <p style=\"text-align: justify; margin-top: 10px; font-size: 14px;\">O Distrito Federal, coração político do Brasil, não está imune aos desafios que envolvem a segurança patrimonial. Ao longo dos anos, a segurança pública tem sido uma preocupação constante, e a localização e compreensão do número de furtos ao patrimônio em cada região é crucial para desenvolver estratégias eficazes de prevenção e intervenção. </P><h5>\n",
    "\n"
   ]
  },
  {
   "attachments": {},
   "cell_type": "markdown",
   "metadata": {},
   "source": [
    "<p align=\"center\">\n",
    "  <img src=\"../img/mapadf.jpg\" alt=\"Região do Distrito Federal\" width=\"600\">\n",
    "</p>\n"
   ]
  },
  {
   "attachments": {},
   "cell_type": "markdown",
   "metadata": {},
   "source": [
    "#### Metodologia/Data: \n",
    "\n",
    "<h5> <p style=\"text-align: justify; margin-top: 10px; font-size: 14px;\">Os dados foram coletado do site da Secretaria de Estado de Segurança Pública - SSP/DF e do Instituto Brasileiro de Geografia e Estatística - IBGE.</p><h5>\n"
   ]
  },
  {
   "attachments": {},
   "cell_type": "markdown",
   "metadata": {},
   "source": [
    "#### Geometria do Distrito Federal\n",
    "<h5> <p style=\"text-align: justify; margin-top: 10px; font-size: 14px;\">Explorando e Trabalhando a geometria do Distrito Federal</p><h5>"
   ]
  },
  {
   "cell_type": "code",
   "execution_count": 8,
   "metadata": {},
   "outputs": [
    {
     "ename": "AttributeError",
     "evalue": "partially initialized module 'pandas' has no attribute '_pandas_parser_CAPI' (most likely due to a circular import)",
     "output_type": "error",
     "traceback": [
      "\u001b[1;31m---------------------------------------------------------------------------\u001b[0m",
      "\u001b[1;31mAttributeError\u001b[0m                            Traceback (most recent call last)",
      "Cell \u001b[1;32mIn[8], line 2\u001b[0m\n\u001b[0;32m      1\u001b[0m \u001b[38;5;66;03m# ler os dados com o geopandas\u001b[39;00m\n\u001b[1;32m----> 2\u001b[0m \u001b[38;5;28;01mimport\u001b[39;00m \u001b[38;5;21;01mgeopandas\u001b[39;00m \u001b[38;5;28;01mas\u001b[39;00m \u001b[38;5;21;01mgpd\u001b[39;00m\n\u001b[0;32m      3\u001b[0m data \u001b[38;5;241m=\u001b[39m gpd\u001b[38;5;241m.\u001b[39mread_file(\u001b[38;5;124m'\u001b[39m\u001b[38;5;124m..\u001b[39m\u001b[38;5;130;01m\\\\\u001b[39;00m\u001b[38;5;124mdata\u001b[39m\u001b[38;5;130;01m\\\\\u001b[39;00m\u001b[38;5;124mDF_Municipios_2022.shp\u001b[39m\u001b[38;5;124m'\u001b[39m)\n",
      "File \u001b[1;32mc:\\Users\\Fernandinho\\AppData\\Local\\Programs\\Python\\Python312\\Lib\\site-packages\\geopandas\\__init__.py:1\u001b[0m\n\u001b[1;32m----> 1\u001b[0m \u001b[38;5;28;01mfrom\u001b[39;00m \u001b[38;5;21;01mgeopandas\u001b[39;00m\u001b[38;5;21;01m.\u001b[39;00m\u001b[38;5;21;01m_config\u001b[39;00m \u001b[38;5;28;01mimport\u001b[39;00m options\n\u001b[0;32m      3\u001b[0m \u001b[38;5;28;01mfrom\u001b[39;00m \u001b[38;5;21;01mgeopandas\u001b[39;00m\u001b[38;5;21;01m.\u001b[39;00m\u001b[38;5;21;01mgeoseries\u001b[39;00m \u001b[38;5;28;01mimport\u001b[39;00m GeoSeries\n\u001b[0;32m      4\u001b[0m \u001b[38;5;28;01mfrom\u001b[39;00m \u001b[38;5;21;01mgeopandas\u001b[39;00m\u001b[38;5;21;01m.\u001b[39;00m\u001b[38;5;21;01mgeodataframe\u001b[39;00m \u001b[38;5;28;01mimport\u001b[39;00m GeoDataFrame\n",
      "File \u001b[1;32mc:\\Users\\Fernandinho\\AppData\\Local\\Programs\\Python\\Python312\\Lib\\site-packages\\geopandas\\_config.py:109\u001b[0m\n\u001b[0;32m    102\u001b[0m     \u001b[38;5;28;01mimport\u001b[39;00m \u001b[38;5;21;01mgeopandas\u001b[39;00m\u001b[38;5;21;01m.\u001b[39;00m\u001b[38;5;21;01m_compat\u001b[39;00m \u001b[38;5;28;01mas\u001b[39;00m \u001b[38;5;21;01mcompat\u001b[39;00m\n\u001b[0;32m    104\u001b[0m     compat\u001b[38;5;241m.\u001b[39mset_use_pygeos(value)\n\u001b[0;32m    107\u001b[0m use_pygeos \u001b[38;5;241m=\u001b[39m Option(\n\u001b[0;32m    108\u001b[0m     key\u001b[38;5;241m=\u001b[39m\u001b[38;5;124m\"\u001b[39m\u001b[38;5;124muse_pygeos\u001b[39m\u001b[38;5;124m\"\u001b[39m,\n\u001b[1;32m--> 109\u001b[0m     default_value\u001b[38;5;241m=\u001b[39m\u001b[43m_default_use_pygeos\u001b[49m\u001b[43m(\u001b[49m\u001b[43m)\u001b[49m,\n\u001b[0;32m    110\u001b[0m     doc\u001b[38;5;241m=\u001b[39m(\n\u001b[0;32m    111\u001b[0m         \u001b[38;5;124m\"\u001b[39m\u001b[38;5;124mWhether to use PyGEOS to speed up spatial operations. The default is True \u001b[39m\u001b[38;5;124m\"\u001b[39m\n\u001b[0;32m    112\u001b[0m         \u001b[38;5;124m\"\u001b[39m\u001b[38;5;124mif PyGEOS is installed, and follows the USE_PYGEOS environment variable \u001b[39m\u001b[38;5;124m\"\u001b[39m\n\u001b[0;32m    113\u001b[0m         \u001b[38;5;124m\"\u001b[39m\u001b[38;5;124mif set.\u001b[39m\u001b[38;5;124m\"\u001b[39m\n\u001b[0;32m    114\u001b[0m     ),\n\u001b[0;32m    115\u001b[0m     validator\u001b[38;5;241m=\u001b[39m_validate_bool,\n\u001b[0;32m    116\u001b[0m     callback\u001b[38;5;241m=\u001b[39m_callback_use_pygeos,\n\u001b[0;32m    117\u001b[0m )\n\u001b[0;32m    120\u001b[0m \u001b[38;5;28;01mdef\u001b[39;00m \u001b[38;5;21m_validate_io_engine\u001b[39m(value):\n\u001b[0;32m    121\u001b[0m     \u001b[38;5;28;01mif\u001b[39;00m value \u001b[38;5;129;01mis\u001b[39;00m \u001b[38;5;129;01mnot\u001b[39;00m \u001b[38;5;28;01mNone\u001b[39;00m:\n",
      "File \u001b[1;32mc:\\Users\\Fernandinho\\AppData\\Local\\Programs\\Python\\Python312\\Lib\\site-packages\\geopandas\\_config.py:95\u001b[0m, in \u001b[0;36m_default_use_pygeos\u001b[1;34m()\u001b[0m\n\u001b[0;32m     94\u001b[0m \u001b[38;5;28;01mdef\u001b[39;00m \u001b[38;5;21m_default_use_pygeos\u001b[39m():\n\u001b[1;32m---> 95\u001b[0m     \u001b[38;5;28;01mimport\u001b[39;00m \u001b[38;5;21;01mgeopandas\u001b[39;00m\u001b[38;5;21;01m.\u001b[39;00m\u001b[38;5;21;01m_compat\u001b[39;00m \u001b[38;5;28;01mas\u001b[39;00m \u001b[38;5;21;01mcompat\u001b[39;00m\n\u001b[0;32m     97\u001b[0m     \u001b[38;5;28;01mreturn\u001b[39;00m compat\u001b[38;5;241m.\u001b[39mUSE_PYGEOS\n",
      "File \u001b[1;32mc:\\Users\\Fernandinho\\AppData\\Local\\Programs\\Python\\Python312\\Lib\\site-packages\\geopandas\\_compat.py:8\u001b[0m\n\u001b[0;32m      5\u001b[0m \u001b[38;5;28;01mimport\u001b[39;00m \u001b[38;5;21;01mwarnings\u001b[39;00m\n\u001b[0;32m      7\u001b[0m \u001b[38;5;28;01mimport\u001b[39;00m \u001b[38;5;21;01mnumpy\u001b[39;00m \u001b[38;5;28;01mas\u001b[39;00m \u001b[38;5;21;01mnp\u001b[39;00m\n\u001b[1;32m----> 8\u001b[0m \u001b[38;5;28;01mimport\u001b[39;00m \u001b[38;5;21;01mpandas\u001b[39;00m \u001b[38;5;28;01mas\u001b[39;00m \u001b[38;5;21;01mpd\u001b[39;00m\n\u001b[0;32m      9\u001b[0m \u001b[38;5;28;01mimport\u001b[39;00m \u001b[38;5;21;01mshapely\u001b[39;00m\n\u001b[0;32m     10\u001b[0m \u001b[38;5;28;01mimport\u001b[39;00m \u001b[38;5;21;01mshapely\u001b[39;00m\u001b[38;5;21;01m.\u001b[39;00m\u001b[38;5;21;01mgeos\u001b[39;00m\n",
      "File \u001b[1;32mc:\\Users\\Fernandinho\\AppData\\Local\\Programs\\Python\\Python312\\Lib\\site-packages\\pandas\\__init__.py:148\u001b[0m\n\u001b[0;32m    129\u001b[0m \u001b[38;5;28;01mfrom\u001b[39;00m \u001b[38;5;21;01mpandas\u001b[39;00m\u001b[38;5;21;01m.\u001b[39;00m\u001b[38;5;21;01mcore\u001b[39;00m\u001b[38;5;21;01m.\u001b[39;00m\u001b[38;5;21;01mcomputation\u001b[39;00m\u001b[38;5;21;01m.\u001b[39;00m\u001b[38;5;21;01mapi\u001b[39;00m \u001b[38;5;28;01mimport\u001b[39;00m \u001b[38;5;28meval\u001b[39m\n\u001b[0;32m    131\u001b[0m \u001b[38;5;28;01mfrom\u001b[39;00m \u001b[38;5;21;01mpandas\u001b[39;00m\u001b[38;5;21;01m.\u001b[39;00m\u001b[38;5;21;01mcore\u001b[39;00m\u001b[38;5;21;01m.\u001b[39;00m\u001b[38;5;21;01mreshape\u001b[39;00m\u001b[38;5;21;01m.\u001b[39;00m\u001b[38;5;21;01mapi\u001b[39;00m \u001b[38;5;28;01mimport\u001b[39;00m (\n\u001b[0;32m    132\u001b[0m     concat,\n\u001b[0;32m    133\u001b[0m     lreshape,\n\u001b[1;32m   (...)\u001b[0m\n\u001b[0;32m    145\u001b[0m     qcut,\n\u001b[0;32m    146\u001b[0m )\n\u001b[1;32m--> 148\u001b[0m \u001b[38;5;28;01mfrom\u001b[39;00m \u001b[38;5;21;01mpandas\u001b[39;00m \u001b[38;5;28;01mimport\u001b[39;00m api, arrays, errors, io, plotting, tseries\n\u001b[0;32m    149\u001b[0m \u001b[38;5;28;01mfrom\u001b[39;00m \u001b[38;5;21;01mpandas\u001b[39;00m \u001b[38;5;28;01mimport\u001b[39;00m testing\n\u001b[0;32m    150\u001b[0m \u001b[38;5;28;01mfrom\u001b[39;00m \u001b[38;5;21;01mpandas\u001b[39;00m\u001b[38;5;21;01m.\u001b[39;00m\u001b[38;5;21;01mutil\u001b[39;00m\u001b[38;5;21;01m.\u001b[39;00m\u001b[38;5;21;01m_print_versions\u001b[39;00m \u001b[38;5;28;01mimport\u001b[39;00m show_versions\n",
      "File \u001b[1;32mc:\\Users\\Fernandinho\\AppData\\Local\\Programs\\Python\\Python312\\Lib\\site-packages\\pandas\\api\\__init__.py:2\u001b[0m\n\u001b[0;32m      1\u001b[0m \u001b[38;5;124;03m\"\"\" public toolkit API \"\"\"\u001b[39;00m\n\u001b[1;32m----> 2\u001b[0m \u001b[38;5;28;01mfrom\u001b[39;00m \u001b[38;5;21;01mpandas\u001b[39;00m\u001b[38;5;21;01m.\u001b[39;00m\u001b[38;5;21;01mapi\u001b[39;00m \u001b[38;5;28;01mimport\u001b[39;00m (\n\u001b[0;32m      3\u001b[0m     extensions,\n\u001b[0;32m      4\u001b[0m     indexers,\n\u001b[0;32m      5\u001b[0m     interchange,\n\u001b[0;32m      6\u001b[0m     types,\n\u001b[0;32m      7\u001b[0m     typing,\n\u001b[0;32m      8\u001b[0m )\n\u001b[0;32m     10\u001b[0m __all__ \u001b[38;5;241m=\u001b[39m [\n\u001b[0;32m     11\u001b[0m     \u001b[38;5;124m\"\u001b[39m\u001b[38;5;124minterchange\u001b[39m\u001b[38;5;124m\"\u001b[39m,\n\u001b[0;32m     12\u001b[0m     \u001b[38;5;124m\"\u001b[39m\u001b[38;5;124mextensions\u001b[39m\u001b[38;5;124m\"\u001b[39m,\n\u001b[1;32m   (...)\u001b[0m\n\u001b[0;32m     15\u001b[0m     \u001b[38;5;124m\"\u001b[39m\u001b[38;5;124mtyping\u001b[39m\u001b[38;5;124m\"\u001b[39m,\n\u001b[0;32m     16\u001b[0m ]\n",
      "File \u001b[1;32mc:\\Users\\Fernandinho\\AppData\\Local\\Programs\\Python\\Python312\\Lib\\site-packages\\pandas\\api\\typing\\__init__.py:31\u001b[0m\n\u001b[0;32m     19\u001b[0m \u001b[38;5;28;01mfrom\u001b[39;00m \u001b[38;5;21;01mpandas\u001b[39;00m\u001b[38;5;21;01m.\u001b[39;00m\u001b[38;5;21;01mcore\u001b[39;00m\u001b[38;5;21;01m.\u001b[39;00m\u001b[38;5;21;01mwindow\u001b[39;00m \u001b[38;5;28;01mimport\u001b[39;00m (\n\u001b[0;32m     20\u001b[0m     Expanding,\n\u001b[0;32m     21\u001b[0m     ExpandingGroupby,\n\u001b[1;32m   (...)\u001b[0m\n\u001b[0;32m     26\u001b[0m     Window,\n\u001b[0;32m     27\u001b[0m )\n\u001b[0;32m     29\u001b[0m \u001b[38;5;66;03m# TODO: Can't import Styler without importing jinja2\u001b[39;00m\n\u001b[0;32m     30\u001b[0m \u001b[38;5;66;03m# from pandas.io.formats.style import Styler\u001b[39;00m\n\u001b[1;32m---> 31\u001b[0m \u001b[38;5;28;01mfrom\u001b[39;00m \u001b[38;5;21;01mpandas\u001b[39;00m\u001b[38;5;21;01m.\u001b[39;00m\u001b[38;5;21;01mio\u001b[39;00m\u001b[38;5;21;01m.\u001b[39;00m\u001b[38;5;21;01mjson\u001b[39;00m\u001b[38;5;21;01m.\u001b[39;00m\u001b[38;5;21;01m_json\u001b[39;00m \u001b[38;5;28;01mimport\u001b[39;00m JsonReader\n\u001b[0;32m     32\u001b[0m \u001b[38;5;28;01mfrom\u001b[39;00m \u001b[38;5;21;01mpandas\u001b[39;00m\u001b[38;5;21;01m.\u001b[39;00m\u001b[38;5;21;01mio\u001b[39;00m\u001b[38;5;21;01m.\u001b[39;00m\u001b[38;5;21;01mstata\u001b[39;00m \u001b[38;5;28;01mimport\u001b[39;00m StataReader\n\u001b[0;32m     34\u001b[0m __all__ \u001b[38;5;241m=\u001b[39m [\n\u001b[0;32m     35\u001b[0m     \u001b[38;5;124m\"\u001b[39m\u001b[38;5;124mDataFrameGroupBy\u001b[39m\u001b[38;5;124m\"\u001b[39m,\n\u001b[0;32m     36\u001b[0m     \u001b[38;5;124m\"\u001b[39m\u001b[38;5;124mDatetimeIndexResamplerGroupby\u001b[39m\u001b[38;5;124m\"\u001b[39m,\n\u001b[1;32m   (...)\u001b[0m\n\u001b[0;32m     54\u001b[0m     \u001b[38;5;124m\"\u001b[39m\u001b[38;5;124mWindow\u001b[39m\u001b[38;5;124m\"\u001b[39m,\n\u001b[0;32m     55\u001b[0m ]\n",
      "File \u001b[1;32mc:\\Users\\Fernandinho\\AppData\\Local\\Programs\\Python\\Python312\\Lib\\site-packages\\pandas\\io\\json\\__init__.py:1\u001b[0m\n\u001b[1;32m----> 1\u001b[0m \u001b[38;5;28;01mfrom\u001b[39;00m \u001b[38;5;21;01mpandas\u001b[39;00m\u001b[38;5;21;01m.\u001b[39;00m\u001b[38;5;21;01mio\u001b[39;00m\u001b[38;5;21;01m.\u001b[39;00m\u001b[38;5;21;01mjson\u001b[39;00m\u001b[38;5;21;01m.\u001b[39;00m\u001b[38;5;21;01m_json\u001b[39;00m \u001b[38;5;28;01mimport\u001b[39;00m (\n\u001b[0;32m      2\u001b[0m     read_json,\n\u001b[0;32m      3\u001b[0m     to_json,\n\u001b[0;32m      4\u001b[0m     ujson_dumps \u001b[38;5;28;01mas\u001b[39;00m dumps,\n\u001b[0;32m      5\u001b[0m     ujson_loads \u001b[38;5;28;01mas\u001b[39;00m loads,\n\u001b[0;32m      6\u001b[0m )\n\u001b[0;32m      7\u001b[0m \u001b[38;5;28;01mfrom\u001b[39;00m \u001b[38;5;21;01mpandas\u001b[39;00m\u001b[38;5;21;01m.\u001b[39;00m\u001b[38;5;21;01mio\u001b[39;00m\u001b[38;5;21;01m.\u001b[39;00m\u001b[38;5;21;01mjson\u001b[39;00m\u001b[38;5;21;01m.\u001b[39;00m\u001b[38;5;21;01m_table_schema\u001b[39;00m \u001b[38;5;28;01mimport\u001b[39;00m build_table_schema\n\u001b[0;32m      9\u001b[0m __all__ \u001b[38;5;241m=\u001b[39m [\n\u001b[0;32m     10\u001b[0m     \u001b[38;5;124m\"\u001b[39m\u001b[38;5;124mdumps\u001b[39m\u001b[38;5;124m\"\u001b[39m,\n\u001b[0;32m     11\u001b[0m     \u001b[38;5;124m\"\u001b[39m\u001b[38;5;124mloads\u001b[39m\u001b[38;5;124m\"\u001b[39m,\n\u001b[1;32m   (...)\u001b[0m\n\u001b[0;32m     14\u001b[0m     \u001b[38;5;124m\"\u001b[39m\u001b[38;5;124mbuild_table_schema\u001b[39m\u001b[38;5;124m\"\u001b[39m,\n\u001b[0;32m     15\u001b[0m ]\n",
      "File \u001b[1;32mc:\\Users\\Fernandinho\\AppData\\Local\\Programs\\Python\\Python312\\Lib\\site-packages\\pandas\\io\\json\\_json.py:67\u001b[0m\n\u001b[0;32m     62\u001b[0m \u001b[38;5;28;01mfrom\u001b[39;00m \u001b[38;5;21;01mpandas\u001b[39;00m\u001b[38;5;21;01m.\u001b[39;00m\u001b[38;5;21;01mio\u001b[39;00m\u001b[38;5;21;01m.\u001b[39;00m\u001b[38;5;21;01mjson\u001b[39;00m\u001b[38;5;21;01m.\u001b[39;00m\u001b[38;5;21;01m_normalize\u001b[39;00m \u001b[38;5;28;01mimport\u001b[39;00m convert_to_line_delimits\n\u001b[0;32m     63\u001b[0m \u001b[38;5;28;01mfrom\u001b[39;00m \u001b[38;5;21;01mpandas\u001b[39;00m\u001b[38;5;21;01m.\u001b[39;00m\u001b[38;5;21;01mio\u001b[39;00m\u001b[38;5;21;01m.\u001b[39;00m\u001b[38;5;21;01mjson\u001b[39;00m\u001b[38;5;21;01m.\u001b[39;00m\u001b[38;5;21;01m_table_schema\u001b[39;00m \u001b[38;5;28;01mimport\u001b[39;00m (\n\u001b[0;32m     64\u001b[0m     build_table_schema,\n\u001b[0;32m     65\u001b[0m     parse_table_schema,\n\u001b[0;32m     66\u001b[0m )\n\u001b[1;32m---> 67\u001b[0m \u001b[38;5;28;01mfrom\u001b[39;00m \u001b[38;5;21;01mpandas\u001b[39;00m\u001b[38;5;21;01m.\u001b[39;00m\u001b[38;5;21;01mio\u001b[39;00m\u001b[38;5;21;01m.\u001b[39;00m\u001b[38;5;21;01mparsers\u001b[39;00m\u001b[38;5;21;01m.\u001b[39;00m\u001b[38;5;21;01mreaders\u001b[39;00m \u001b[38;5;28;01mimport\u001b[39;00m validate_integer\n\u001b[0;32m     69\u001b[0m \u001b[38;5;28;01mif\u001b[39;00m TYPE_CHECKING:\n\u001b[0;32m     70\u001b[0m     \u001b[38;5;28;01mfrom\u001b[39;00m \u001b[38;5;21;01mcollections\u001b[39;00m\u001b[38;5;21;01m.\u001b[39;00m\u001b[38;5;21;01mabc\u001b[39;00m \u001b[38;5;28;01mimport\u001b[39;00m (\n\u001b[0;32m     71\u001b[0m         Hashable,\n\u001b[0;32m     72\u001b[0m         Mapping,\n\u001b[0;32m     73\u001b[0m     )\n",
      "File \u001b[1;32mc:\\Users\\Fernandinho\\AppData\\Local\\Programs\\Python\\Python312\\Lib\\site-packages\\pandas\\io\\parsers\\__init__.py:1\u001b[0m\n\u001b[1;32m----> 1\u001b[0m \u001b[38;5;28;01mfrom\u001b[39;00m \u001b[38;5;21;01mpandas\u001b[39;00m\u001b[38;5;21;01m.\u001b[39;00m\u001b[38;5;21;01mio\u001b[39;00m\u001b[38;5;21;01m.\u001b[39;00m\u001b[38;5;21;01mparsers\u001b[39;00m\u001b[38;5;21;01m.\u001b[39;00m\u001b[38;5;21;01mreaders\u001b[39;00m \u001b[38;5;28;01mimport\u001b[39;00m (\n\u001b[0;32m      2\u001b[0m     TextFileReader,\n\u001b[0;32m      3\u001b[0m     TextParser,\n\u001b[0;32m      4\u001b[0m     read_csv,\n\u001b[0;32m      5\u001b[0m     read_fwf,\n\u001b[0;32m      6\u001b[0m     read_table,\n\u001b[0;32m      7\u001b[0m )\n\u001b[0;32m      9\u001b[0m __all__ \u001b[38;5;241m=\u001b[39m [\u001b[38;5;124m\"\u001b[39m\u001b[38;5;124mTextFileReader\u001b[39m\u001b[38;5;124m\"\u001b[39m, \u001b[38;5;124m\"\u001b[39m\u001b[38;5;124mTextParser\u001b[39m\u001b[38;5;124m\"\u001b[39m, \u001b[38;5;124m\"\u001b[39m\u001b[38;5;124mread_csv\u001b[39m\u001b[38;5;124m\"\u001b[39m, \u001b[38;5;124m\"\u001b[39m\u001b[38;5;124mread_fwf\u001b[39m\u001b[38;5;124m\"\u001b[39m, \u001b[38;5;124m\"\u001b[39m\u001b[38;5;124mread_table\u001b[39m\u001b[38;5;124m\"\u001b[39m]\n",
      "File \u001b[1;32mc:\\Users\\Fernandinho\\AppData\\Local\\Programs\\Python\\Python312\\Lib\\site-packages\\pandas\\io\\parsers\\readers.py:27\u001b[0m\n\u001b[0;32m     24\u001b[0m \u001b[38;5;28;01mimport\u001b[39;00m \u001b[38;5;21;01mnumpy\u001b[39;00m \u001b[38;5;28;01mas\u001b[39;00m \u001b[38;5;21;01mnp\u001b[39;00m\n\u001b[0;32m     26\u001b[0m \u001b[38;5;28;01mfrom\u001b[39;00m \u001b[38;5;21;01mpandas\u001b[39;00m\u001b[38;5;21;01m.\u001b[39;00m\u001b[38;5;21;01m_libs\u001b[39;00m \u001b[38;5;28;01mimport\u001b[39;00m lib\n\u001b[1;32m---> 27\u001b[0m \u001b[38;5;28;01mfrom\u001b[39;00m \u001b[38;5;21;01mpandas\u001b[39;00m\u001b[38;5;21;01m.\u001b[39;00m\u001b[38;5;21;01m_libs\u001b[39;00m\u001b[38;5;21;01m.\u001b[39;00m\u001b[38;5;21;01mparsers\u001b[39;00m \u001b[38;5;28;01mimport\u001b[39;00m STR_NA_VALUES\n\u001b[0;32m     28\u001b[0m \u001b[38;5;28;01mfrom\u001b[39;00m \u001b[38;5;21;01mpandas\u001b[39;00m\u001b[38;5;21;01m.\u001b[39;00m\u001b[38;5;21;01merrors\u001b[39;00m \u001b[38;5;28;01mimport\u001b[39;00m (\n\u001b[0;32m     29\u001b[0m     AbstractMethodError,\n\u001b[0;32m     30\u001b[0m     ParserWarning,\n\u001b[0;32m     31\u001b[0m )\n\u001b[0;32m     32\u001b[0m \u001b[38;5;28;01mfrom\u001b[39;00m \u001b[38;5;21;01mpandas\u001b[39;00m\u001b[38;5;21;01m.\u001b[39;00m\u001b[38;5;21;01mutil\u001b[39;00m\u001b[38;5;21;01m.\u001b[39;00m\u001b[38;5;21;01m_decorators\u001b[39;00m \u001b[38;5;28;01mimport\u001b[39;00m Appender\n",
      "File \u001b[1;32mparsers.pyx:1417\u001b[0m, in \u001b[0;36minit pandas._libs.parsers\u001b[1;34m()\u001b[0m\n",
      "\u001b[1;31mAttributeError\u001b[0m: partially initialized module 'pandas' has no attribute '_pandas_parser_CAPI' (most likely due to a circular import)"
     ]
    }
   ],
   "source": [
    "# ler os dados com o geopandas\n",
    "import geopandas as gpd\n",
    "data = gpd.read_file('..\\\\data\\\\DF_Municipios_2022.shp')\n"
   ]
  },
  {
   "cell_type": "code",
   "execution_count": null,
   "metadata": {},
   "outputs": [],
   "source": [
    "type(data)"
   ]
  },
  {
   "cell_type": "code",
   "execution_count": null,
   "metadata": {},
   "outputs": [],
   "source": [
    "data.head()"
   ]
  },
  {
   "cell_type": "code",
   "execution_count": null,
   "metadata": {},
   "outputs": [],
   "source": [
    "data.plot()"
   ]
  },
  {
   "cell_type": "code",
   "execution_count": null,
   "metadata": {},
   "outputs": [],
   "source": [
    "import matplotlib.pyplot as plt\n",
    "\n",
    "data.plot(figsize=(16,14), facecolor='white', edgecolor='black')\n",
    "plt.show()"
   ]
  },
  {
   "cell_type": "code",
   "execution_count": null,
   "metadata": {},
   "outputs": [],
   "source": [
    "#filtrar somente o Distrito Federal\n",
    "gdf_df = data[data['NM_MUN'] == 'Brasília']\n",
    "gdf_df"
   ]
  },
  {
   "cell_type": "code",
   "execution_count": null,
   "metadata": {},
   "outputs": [],
   "source": [
    "# mostrar a região filtrada\n",
    "import matplotlib.pyplot as plt\n",
    "\n",
    "gdf_df = data[data['NM_MUN'] == 'Brasília']\n",
    "gdf_df.plot(figsize=(8, 8), facecolor=\"white\", edgecolor=\"black\")\n",
    "plt.show()"
   ]
  },
  {
   "cell_type": "code",
   "execution_count": null,
   "metadata": {},
   "outputs": [],
   "source": [
    "# salvar o geodataframe com formato geojson\n",
    "filename = \"..\\\\data\\\\DF_Municipios_2022.geojson\"\n",
    "gdf_df.to_file(filename, driver=\"GeoJSON\")"
   ]
  },
  {
   "cell_type": "code",
   "execution_count": null,
   "metadata": {},
   "outputs": [],
   "source": [
    "gdf_df = gpd.read_file(filename, driver=\"GeoJSON\")\n",
    "gdf_df"
   ]
  },
  {
   "cell_type": "code",
   "execution_count": null,
   "metadata": {},
   "outputs": [],
   "source": [
    "# Importar os objetos geométricos da biblioteca shapely \n",
    "from shapely.geometry import Point, LineString, Polygon"
   ]
  },
  {
   "cell_type": "code",
   "execution_count": null,
   "metadata": {},
   "outputs": [],
   "source": [
    "# Criar uma geometria do tipo ponto\n",
    "ponto = Point(5, 10)"
   ]
  },
  {
   "cell_type": "code",
   "execution_count": null,
   "metadata": {},
   "outputs": [],
   "source": [
    "ponto"
   ]
  },
  {
   "cell_type": "code",
   "execution_count": null,
   "metadata": {},
   "outputs": [],
   "source": [
    "print (ponto)"
   ]
  },
  {
   "cell_type": "code",
   "execution_count": null,
   "metadata": {},
   "outputs": [],
   "source": [
    "type(ponto)"
   ]
  },
  {
   "cell_type": "code",
   "execution_count": null,
   "metadata": {},
   "outputs": [],
   "source": [
    "# Utilizando a função coords\n",
    "list (ponto.coords)"
   ]
  },
  {
   "cell_type": "code",
   "execution_count": null,
   "metadata": {},
   "outputs": [],
   "source": [
    "# Lendo x e y separadamente\n",
    "x = ponto.x\n",
    "y = ponto.y\n",
    "print(x , y)"
   ]
  },
  {
   "cell_type": "code",
   "execution_count": null,
   "metadata": {},
   "outputs": [],
   "source": [
    "ponto_1 = Point(2,3)\n",
    "ponto_2 = Point(5,7)\n",
    "distancia = ponto_1.distance(ponto_2)\n",
    "print(\"Distância entre os pontos:\", distancia)"
   ]
  },
  {
   "cell_type": "code",
   "execution_count": null,
   "metadata": {},
   "outputs": [],
   "source": [
    "# Criar um linha a partir de objetos pontos\n",
    "ponto_1 = Point(2,3)\n",
    "ponto_2 = Point(5,7)\n",
    "ponto_3 = Point(2,10)\n",
    "linha = LineString([ponto_1, ponto_2, ponto_3])"
   ]
  },
  {
   "cell_type": "code",
   "execution_count": null,
   "metadata": {},
   "outputs": [],
   "source": [
    "linha"
   ]
  },
  {
   "cell_type": "code",
   "execution_count": null,
   "metadata": {},
   "outputs": [],
   "source": [
    "print(linha)"
   ]
  },
  {
   "cell_type": "code",
   "execution_count": null,
   "metadata": {},
   "outputs": [],
   "source": [
    "type(linha)"
   ]
  },
  {
   "cell_type": "code",
   "execution_count": null,
   "metadata": {},
   "outputs": [],
   "source": [
    "# Utilizando a função coords\n",
    "list(linha.coords)"
   ]
  },
  {
   "cell_type": "code",
   "execution_count": null,
   "metadata": {},
   "outputs": [],
   "source": [
    "#lendo x e y separadamente\n",
    "coordenadas_x = list(linha.xy[0])\n",
    "coordenadas_y = list(linha.xy[1])\n",
    "\n",
    "print('coordenadas_x:', coordenadas_x)\n",
    "print('coordenadas_y:', coordenadas_y)\n"
   ]
  },
  {
   "cell_type": "code",
   "execution_count": null,
   "metadata": {},
   "outputs": [],
   "source": [
    "#pegar o comprimento da linha\n",
    "linha.length"
   ]
  },
  {
   "cell_type": "code",
   "execution_count": null,
   "metadata": {},
   "outputs": [],
   "source": [
    "# Obter o ponto central (centróide)\n",
    "print(linha.centroid)"
   ]
  },
  {
   "cell_type": "code",
   "execution_count": null,
   "metadata": {},
   "outputs": [],
   "source": [
    "# Criar um polygon passando as coordenadas\n",
    "poly = Polygon([(2,3),(5,7),(2,10)])"
   ]
  },
  {
   "cell_type": "code",
   "execution_count": null,
   "metadata": {},
   "outputs": [],
   "source": [
    "poly"
   ]
  },
  {
   "cell_type": "code",
   "execution_count": null,
   "metadata": {},
   "outputs": [],
   "source": [
    "print(poly)"
   ]
  },
  {
   "cell_type": "code",
   "execution_count": null,
   "metadata": {},
   "outputs": [],
   "source": [
    "type(poly)"
   ]
  },
  {
   "cell_type": "code",
   "execution_count": null,
   "metadata": {},
   "outputs": [],
   "source": [
    "#  Obter as coordenadas do poligono\n",
    "list(poly.exterior.coords)"
   ]
  },
  {
   "cell_type": "code",
   "execution_count": null,
   "metadata": {},
   "outputs": [],
   "source": [
    "# Calcular a área\n",
    "poly_area = poly.area\n",
    "print ('Área=', poly_area)"
   ]
  },
  {
   "cell_type": "code",
   "execution_count": null,
   "metadata": {},
   "outputs": [],
   "source": [
    "# Pegar o centroide do polígono\n",
    "poly_centroid = poly.centroid\n",
    "print('Centróide:', poly_centroid)"
   ]
  },
  {
   "cell_type": "code",
   "execution_count": null,
   "metadata": {},
   "outputs": [],
   "source": [
    "# Obter as coordenadas do bounding box\n",
    "poly.bounds"
   ]
  },
  {
   "cell_type": "code",
   "execution_count": null,
   "metadata": {},
   "outputs": [],
   "source": [
    "# Pegar as coordenadas da linha exterior\n",
    "poly_exterior = poly.exterior\n",
    "print('Exterior:', poly_exterior)"
   ]
  },
  {
   "cell_type": "code",
   "execution_count": null,
   "metadata": {},
   "outputs": [],
   "source": [
    "# Obter o tamanho da linha exterior\n",
    "poly_exterior_length = poly.exterior.length\n",
    "print('Comprimento exterior:', poly_exterior_length)"
   ]
  },
  {
   "cell_type": "code",
   "execution_count": null,
   "metadata": {},
   "outputs": [],
   "source": [
    "import pandas as pd"
   ]
  },
  {
   "cell_type": "markdown",
   "metadata": {},
   "source": [
    "#### Conhecendo a base de dados"
   ]
  },
  {
   "cell_type": "code",
   "execution_count": null,
   "metadata": {},
   "outputs": [],
   "source": [
    "# Ler os dados com pandas\n",
    "filename = r'..\\\\data\\\\furtos contra patrimônio.xlsx'\n",
    "df_furtos = pd.read_excel(filename)"
   ]
  },
  {
   "cell_type": "code",
   "execution_count": null,
   "metadata": {},
   "outputs": [],
   "source": [
    "# Mostrar os dados com a função head\n",
    "\n",
    "df_furtos.head()\n"
   ]
  },
  {
   "cell_type": "markdown",
   "metadata": {},
   "source": [
    "##### Alguns tratamentos necessários"
   ]
  },
  {
   "cell_type": "code",
   "execution_count": null,
   "metadata": {},
   "outputs": [],
   "source": [
    "# Tratando os dados, retirando informações desnecessárias, espaços em branco...\n",
    "df_furtos = df_furtos.fillna('')\n",
    "df_furtos = df_furtos.rename(columns={'Unnamed: 0':'','Unnamed: 11':'','Unnamed: 12':''})\n"
   ]
  },
  {
   "cell_type": "code",
   "execution_count": null,
   "metadata": {},
   "outputs": [],
   "source": [
    "df_furtos.head(40)"
   ]
  },
  {
   "cell_type": "code",
   "execution_count": null,
   "metadata": {},
   "outputs": [],
   "source": [
    "# Mostrar todas as colunas para ver se temos informações de latitude e longitude\n",
    "df_furtos.columns"
   ]
  },
  {
   "cell_type": "code",
   "execution_count": null,
   "metadata": {},
   "outputs": [],
   "source": [
    "#Apenas os dados de latitude e longitude\n",
    "df_furtos[['Latitude', 'Longitude']].dropna()"
   ]
  },
  {
   "cell_type": "code",
   "execution_count": null,
   "metadata": {},
   "outputs": [],
   "source": [
    "# Criando GeoDataFrame\n",
    "# Importar a classe point da biblioteca Shapely\n",
    "from shapely.geometry import Point"
   ]
  },
  {
   "cell_type": "code",
   "execution_count": null,
   "metadata": {},
   "outputs": [],
   "source": [
    "# Criar a nossa coluna geometry\n",
    "df_furtos['geometry'] = None\n",
    "\n",
    "\n",
    "for index, row in df_furtos.iterrows():\n",
    "    if pd.notna(row.Longitude) and pd.notna(row.Latitude) and row.Longitude != '' and row.Latitude != '':\n",
    "        df_furtos.loc[index, 'geometry'] = Point(float(row.Longitude), float(row.Latitude))\n"
   ]
  },
  {
   "cell_type": "code",
   "execution_count": null,
   "metadata": {},
   "outputs": [],
   "source": [
    "df_furtos.head(10)"
   ]
  },
  {
   "cell_type": "code",
   "execution_count": null,
   "metadata": {},
   "outputs": [],
   "source": [
    "# Conferindo o tipo de dataframe\n",
    "type(df_furtos)"
   ]
  },
  {
   "cell_type": "code",
   "execution_count": null,
   "metadata": {},
   "outputs": [],
   "source": [
    "# Importar a biblioteca geopandas\n",
    "import geopandas as gpd "
   ]
  },
  {
   "cell_type": "code",
   "execution_count": null,
   "metadata": {},
   "outputs": [],
   "source": [
    "# Criar o GeoDataFrame\n",
    "gdf_furtos = gpd.GeoDataFrame(df_furtos, geometry='geometry')"
   ]
  },
  {
   "cell_type": "code",
   "execution_count": null,
   "metadata": {},
   "outputs": [],
   "source": [
    "# Conferindo o tipe do dataframe após a trasformação\n",
    "type(gdf_furtos)"
   ]
  },
  {
   "cell_type": "code",
   "execution_count": null,
   "metadata": {},
   "outputs": [],
   "source": [
    "gdf_furtos.head(5)"
   ]
  },
  {
   "cell_type": "code",
   "execution_count": null,
   "metadata": {},
   "outputs": [],
   "source": [
    "# Mostrar os dados usando a função plot\n",
    "gdf_furtos.plot()"
   ]
  },
  {
   "cell_type": "code",
   "execution_count": null,
   "metadata": {},
   "outputs": [],
   "source": [
    "# Carregar os dados do Distrito Federal\n",
    "filename = '..\\\\data\\\\DF_Municipios_2022.geojson'\n",
    "gdf_capital_DF = gpd.read_file(filename, driver='GEOJSON')"
   ]
  },
  {
   "cell_type": "code",
   "execution_count": null,
   "metadata": {},
   "outputs": [],
   "source": [
    "# Mostrar os dados carregados com a função plot\n",
    "gdf_capital_DF.plot()"
   ]
  },
  {
   "cell_type": "code",
   "execution_count": null,
   "metadata": {},
   "outputs": [],
   "source": [
    "# Importar a biblioteca matplotlib\n",
    "import matplotlib.pyplot as plt"
   ]
  },
  {
   "cell_type": "markdown",
   "metadata": {},
   "source": [
    "#### Os pontos no mapa"
   ]
  },
  {
   "cell_type": "code",
   "execution_count": null,
   "metadata": {},
   "outputs": [],
   "source": [
    "# Pegar o polygon do DF\n",
    "polygon_DF = gdf_capital_DF.iloc[0].geometry"
   ]
  },
  {
   "cell_type": "code",
   "execution_count": null,
   "metadata": {},
   "outputs": [],
   "source": [
    "# Mostrar o polygon no juyter\n",
    "polygon_DF"
   ]
  },
  {
   "cell_type": "code",
   "execution_count": null,
   "metadata": {},
   "outputs": [],
   "source": [
    "# Fazer a operação de interseção entre as geometrias\n",
    "gdf_furtos.intersects(polygon_DF)"
   ]
  },
  {
   "cell_type": "code",
   "execution_count": null,
   "metadata": {},
   "outputs": [],
   "source": [
    "# Interseção entre as geometrias das regiões administrativas\n",
    "gdf_furtos_capital_DF = gdf_furtos[gdf_furtos.intersects(polygon_DF)]"
   ]
  },
  {
   "cell_type": "code",
   "execution_count": null,
   "metadata": {},
   "outputs": [],
   "source": [
    "# Mostrar os dados com matplotlib\n",
    "fig, ax = plt.subplots(figsize=(10,10))\n",
    "\n",
    "gdf_furtos_capital_DF.plot(ax=ax)\n",
    "gdf_capital_DF.plot(ax=ax, facecolor='None', edgecolor='black')"
   ]
  },
  {
   "cell_type": "code",
   "execution_count": null,
   "metadata": {},
   "outputs": [],
   "source": [
    "#Salvando os dados de furtos no Distrito Federal\n",
    "filename = '../data/furtos contra patrimônio.geojson'\n",
    "gdf_furtos_capital_DF.to_file(filename, driver='GeoJSON')"
   ]
  },
  {
   "cell_type": "markdown",
   "metadata": {},
   "source": [
    "#### Criando um mapa simples"
   ]
  },
  {
   "cell_type": "code",
   "execution_count": null,
   "metadata": {},
   "outputs": [],
   "source": [
    "# Criando um mapa simples usando folium\n",
    "import folium\n",
    "fmap = folium.Map()\n",
    "fmap"
   ]
  },
  {
   "cell_type": "markdown",
   "metadata": {},
   "source": [
    "#### Reunindo os nossos dados no mapa"
   ]
  },
  {
   "cell_type": "code",
   "execution_count": null,
   "metadata": {},
   "outputs": [],
   "source": [
    "# Carregando os dados de furtos\n",
    "gdf_furtos = gpd.read_file('..\\\\data\\\\furtos contra patrimônio.geojson', driver=\"GeoJSON\")\n",
    "# Carregando os dados de geometria\n",
    "gdf_geometria_DF = gpd.read_file(\"..\\\\data\\\\DF_Municipios_2022.geojson\", driver=\"GeoJSON\")"
   ]
  },
  {
   "cell_type": "code",
   "execution_count": null,
   "metadata": {},
   "outputs": [],
   "source": [
    "gdf_furtos.head()"
   ]
  },
  {
   "cell_type": "code",
   "execution_count": null,
   "metadata": {},
   "outputs": [],
   "source": [
    "gdf_furtos_slice = gdf_furtos.iloc[:100] # Quero todos os dados até o valor[]\n",
    "\n",
    "fmap = folium.Map()  #mapa\n",
    "\n",
    "feat_geojson = folium.features.GeoJson(gdf_furtos_slice)\n",
    "\n",
    "fmap.add_child(feat_geojson) \n",
    "fmap"
   ]
  },
  {
   "cell_type": "code",
   "execution_count": null,
   "metadata": {},
   "outputs": [],
   "source": [
    "# Melhorando a inicialização do mapa, quando o mapa aparecer já aparecerá com localização determinada(zoom)\n",
    "import folium\n",
    "\n",
    "# Convertendo os valores de Latitude e Longitude para números\n",
    "gdf_furtos_slice['Latitude'] = pd.to_numeric(gdf_furtos_slice['Latitude'], errors='coerce')\n",
    "gdf_furtos_slice['Longitude'] = pd.to_numeric(gdf_furtos_slice['Longitude'], errors='coerce')\n",
    "\n",
    "# Calculando a média das coordenadas\n",
    "media_latitude = gdf_furtos_slice['Latitude'].mean()\n",
    "media_longitude = gdf_furtos_slice['Longitude'].mean()\n",
    "\n",
    "# Inicializando o mapa\n",
    "fmap = folium.Map(location=[media_latitude, media_longitude])\n",
    "\n",
    "# Criando um objeto GeoJson para adicionar ao mapa\n",
    "feat_geojson = folium.features.GeoJson(gdf_furtos_slice.to_json())\n",
    "\n",
    "# Adicionando o objeto GeoJson ao mapa\n",
    "fmap.add_child(feat_geojson)\n",
    "\n",
    "\n",
    "# Adicionando os limites, a fronteira do DF\n",
    "limites = folium.features.GeoJson(gdf_geometria_DF, style_function=lambda feature: \n",
    "                                  {'color':'black', 'weight':2,'fillOpacity':0.0})\n",
    "fmap.add_child(limites)\n",
    "\n",
    "# Adicionar um círculo transparente no centro do mapa\n",
    "folium.CircleMarker(\n",
    "    location=[media_latitude, media_longitude],\n",
    "    radius=10,\n",
    "    color='none',\n",
    "    fill=True,\n",
    "    fill_opacity=0\n",
    ").add_to(fmap)\n",
    "\n",
    "\n",
    "# Exibindo o mapa\n",
    "fmap\n"
   ]
  },
  {
   "cell_type": "code",
   "execution_count": null,
   "metadata": {},
   "outputs": [],
   "source": [
    "# Importar plugin FastMarkerCluster (Para uma grande quantidade de dados, melhora a visualização fazendo agrupamentos dinâmicos)\n",
    "from folium.plugins import FastMarkerCluster"
   ]
  },
  {
   "cell_type": "markdown",
   "metadata": {},
   "source": [
    "#### Mapa de frequência de casos"
   ]
  },
  {
   "cell_type": "code",
   "execution_count": null,
   "metadata": {},
   "outputs": [],
   "source": [
    "fmap = folium.Map(location=[media_latitude, media_longitude])  #mapa\n",
    "\n",
    "mc = FastMarkerCluster(gdf_furtos[['Latitude', 'Longitude']])\n",
    "\n",
    "fmap.add_child(mc) \n",
    "\n",
    "# Adicionando os limites, a fronteira do DF\n",
    "limites = folium.features.GeoJson(gdf_geometria_DF, style_function=lambda feature: \n",
    "                                  {'color':'black', 'weight':2,'fillOpacity':0.0})\n",
    "fmap.add_child(limites)\n",
    "\n",
    "# Adicionar um círculo transparente no centro do mapa\n",
    "folium.CircleMarker(\n",
    "    location=[media_latitude, media_longitude],\n",
    "    radius=10,\n",
    "    color='none',\n",
    "    fill=True,\n",
    "    fill_opacity=0\n",
    ").add_to(fmap)\n",
    "\n",
    "\n",
    "fmap"
   ]
  },
  {
   "cell_type": "code",
   "execution_count": null,
   "metadata": {},
   "outputs": [],
   "source": [
    "# Salvando o mapa em um arquivo html\n",
    "fmap.save('..\\\\html\\\\furtos_contra_patrimonio.html')"
   ]
  },
  {
   "cell_type": "markdown",
   "metadata": {},
   "source": [
    "#### Criando HeatMap (Mapa de calor)"
   ]
  },
  {
   "cell_type": "code",
   "execution_count": null,
   "metadata": {},
   "outputs": [],
   "source": [
    "import folium\n",
    "from folium.plugins import HeatMap\n",
    "import geopandas as gpd\n",
    "\n",
    "\n",
    "fmap = folium.Map(location=[media_latitude, media_longitude], tiles='cartodbpositron')\n",
    "\n",
    "heat_map = HeatMap(gdf_furtos[['Latitude','Longitude']])\n",
    "\n",
    "fmap.add_child(heat_map)\n",
    "\n",
    "\n",
    "\n",
    "\n",
    "# Adicionando os limites, a fronteira do DF\n",
    "limites = folium.features.GeoJson(gdf_geometria_DF, style_function=lambda feature: \n",
    "                                  {'color':'black', 'weight':2,'fillOpacity':0.0})\n",
    "fmap.add_child(limites)\n",
    "\n",
    "# Adicionar um círculo transparente no centro do mapa\n",
    "folium.CircleMarker(\n",
    "    location=[media_latitude, media_longitude],\n",
    "    radius=10,\n",
    "    color='none',\n",
    "    fill=True,\n",
    "    fill_opacity=0\n",
    ").add_to(fmap)\n",
    "fmap"
   ]
  },
  {
   "cell_type": "code",
   "execution_count": null,
   "metadata": {},
   "outputs": [],
   "source": [
    "# Salvando o mapa de calor em um arquivo html\n",
    "fmap.save('..\\\\html\\\\heatmap_furtos_contra_patrimonio.html')"
   ]
  },
  {
   "cell_type": "code",
   "execution_count": null,
   "metadata": {},
   "outputs": [],
   "source": [
    "#Adicionando informações estatísticas\n",
    "# Carregar as regiões administrativas\n",
    "gdf_geometrias_gsp = gpd.read_file('..\\\\data\\\\DF_Municipios_2022.geojson', driver='GeoJSON')\n",
    "\n",
    "# carregar os dados de furtos no Distrito Federal\n",
    "gdf_furtos_gsp = gpd.read_file('..\\\\data\\\\furtos contra patrimônio.geojson', driver='GeoJSON')\n"
   ]
  },
  {
   "cell_type": "code",
   "execution_count": null,
   "metadata": {},
   "outputs": [],
   "source": [
    "gdf_furtos_gsp.head(5)"
   ]
  },
  {
   "cell_type": "code",
   "execution_count": null,
   "metadata": {},
   "outputs": [],
   "source": [
    "import folium\n",
    "import pandas as pd\n",
    "\n",
    "# Convertendo 'Latitude' e 'Longitude' para float\n",
    "gdf_furtos_gsp['Latitude'] = gdf_furtos_gsp['Latitude'].astype(float)\n",
    "gdf_furtos_gsp['Longitude'] = gdf_furtos_gsp['Longitude'].astype(float)\n",
    "\n",
    "# Calcular a média\n",
    "media_latitude = gdf_furtos_gsp['Latitude'].mean()\n",
    "media_longitude = gdf_furtos_gsp['Longitude'].mean()\n",
    "\n",
    "# Criar o mapa\n",
    "fmap = folium.Map(location=[media_latitude, media_longitude], tiles='cartodbpositron', zoom_start=10)\n",
    "\n",
    "# Iterar sobre os municípios\n",
    "for index, municipio in gdf_furtos_gsp.iterrows():\n",
    "    municipio_geojson = folium.features.GeoJson(municipio['geometry'], \n",
    "                                                style_function=lambda feature: {'color': 'blue', 'weight': 2, 'fillOpacity': 0.1})\n",
    "    \n",
    "    # Construir o texto do popup\n",
    "    popup_text = f'''\n",
    "                 Município: {municipio['CID_MUN']} <br>\n",
    "                 População:{str(int(municipio['População']))} <br>\n",
    "                 Furtos registrados(2018-2022): {str(int(municipio['qtd_furtos']))}\n",
    "                 '''\n",
    "\n",
    "    # Adicionar o popup ao GeoJson\n",
    "    popup = folium.Popup(popup_text, max_width=300)\n",
    "    popup.add_to(municipio_geojson)\n",
    "    municipio_geojson.add_to(fmap)\n",
    "\n",
    "# Adicionando os limites, a fronteira do DF\n",
    "limites = folium.features.GeoJson(gdf_geometria_DF, style_function=lambda feature: \n",
    "                                  {'color':'black', 'weight':2,'fillOpacity':0.0})\n",
    "fmap.add_child(limites)\n",
    "\n",
    "# Adicionar um círculo transparente no centro do mapa\n",
    "folium.CircleMarker(\n",
    "    location=[media_latitude, media_longitude],\n",
    "    radius=10,\n",
    "    color='none',\n",
    "    fill=True,\n",
    "    fill_opacity=0\n",
    ").add_to(fmap)\n",
    "\n",
    "# Salvar o mapa em um arquivo HTML\n",
    "fmap.save('..\\\\html\\\\qtd_furtos_DF.html')\n"
   ]
  },
  {
   "cell_type": "markdown",
   "metadata": {},
   "source": [
    "#### Análise Exploratória dos Dados"
   ]
  },
  {
   "attachments": {},
   "cell_type": "markdown",
   "metadata": {},
   "source": [
    "Média de Furtos por Ano\n",
    "###### <h5> <p style=\"text-align: justify; margin-top: 10px; font-size: 14px;\">Para ter uma visão geral da tendência ao longo do período.</p><h5>"
   ]
  },
  {
   "cell_type": "code",
   "execution_count": null,
   "metadata": {},
   "outputs": [],
   "source": [
    "gdf_furtos_gsp.head(5)"
   ]
  },
  {
   "attachments": {},
   "cell_type": "markdown",
   "metadata": {},
   "source": [
    "###### <h5> <p style=\"text-align: justify; margin-top: 10px; font-size: 14px;\"> Média de Furtos a Patrimônios entre os anos de 2018 até 2022 no Distrito Federal <p></h5>"
   ]
  },
  {
   "cell_type": "code",
   "execution_count": null,
   "metadata": {},
   "outputs": [],
   "source": [
    "import pandas as pd\n",
    "\n",
    "# Remover espaços extras nos nomes das colunas\n",
    "gdf_furtos_gsp.columns = gdf_furtos_gsp.columns.str.strip()\n",
    "\n",
    "# Selecionar as colunas desejadas\n",
    "ocorrencias = ['Ocorrências 2018', 'Ocorrências 2019', 'Ocorrências 2020', 'Ocorrências 2021', 'Ocorrências 2022']\n",
    "\n",
    "# Tentar converter as colunas para numérico\n",
    "for col in ocorrencias:\n",
    "    gdf_furtos_gsp[col] = pd.to_numeric(gdf_furtos_gsp[col], errors='coerce')\n",
    "\n",
    "# Adicionando uma nova coluna ao DataFrame com a média\n",
    "gdf_furtos_gsp['Média'] = gdf_furtos_gsp[ocorrencias].mean(axis=1)\n",
    "\n",
    "# Criando um DataFrame apenas com as colunas desejadas\n",
    "df_media_furtos = gdf_furtos_gsp[['CID_MUN', 'Média']]\n",
    "\n",
    "print(df_media_furtos)\n"
   ]
  },
  {
   "cell_type": "code",
   "execution_count": null,
   "metadata": {},
   "outputs": [],
   "source": [
    "import matplotlib.pyplot as plt\n",
    "import pandas as pd\n",
    "\n",
    "# DataFrame da média de furtos\n",
    "df_media_furtos = {\n",
    "    'CID_MUN': [\n",
    "       'BRASILIA', 'GAMA', 'TAGUATINGA', 'BRAZLANDIA',\n",
    "        'SOBRADINHO', 'PLANALTINA', 'PARANOA', 'NUCLEO BANDEIRANTE',\n",
    "        'CEILANDIA', 'GUARA', 'CRUZEIRO', 'SAMAMBAIA',\n",
    "        'SANTA MARIA', 'SAO SEBASTIAO', 'RECANTO DAS EMAS',\n",
    "        'LAGO SUL', 'RIACHO FUNDO', 'LAGO NORTE',\n",
    "        'CANDANGOLANDIA', 'AGUAS CLARAS', 'RIACHO FUNDO 2',\n",
    "        'SUDOESTE', 'VARJAO DO TORTO', 'PARK WAY',\n",
    "        'ESTRUTURAL', 'SOBRADINHO 2', 'JARDIM BOTANICO',\n",
    "        'ITAPOA', 'SIA', 'VICENTE PIRES', 'FERCAL',\n",
    "        'SOL NASCENTE/POR DO SOL', 'ARNIQUEIRA'\n",
    "    ],\n",
    "    'Média': [\n",
    "        682.2, 268.2, 627.8, 45.8, 97.8, 157.6, 72.0, 51.0, 668.4, 159.0,\n",
    "        34.0, 337.0, 164.0, 102.6, 150.6, 24.6, 50.8, 18.0, 11.0, 114.4,\n",
    "        40.8, 39.4, 10.0, 5.8, 50.0, 35.8, 7.4, 75.2, 111.8, 96.4, 8.6,\n",
    "        73.6, 45.6\n",
    "    ]\n",
    "}\n",
    "\n",
    "df_media_furtos = pd.DataFrame(df_media_furtos)\n",
    "\n",
    "# Ajustando o espaçamento e o tamanho da fonte\n",
    "plt.figure(figsize=(12, 8))\n",
    "bars = plt.bar(df_media_furtos['CID_MUN'], df_media_furtos['Média'], color='blue', width=0.7)  # Ajuste o valor de width conforme necessário\n",
    "plt.xlabel('Cidades')\n",
    "plt.ylabel('Média de Ocorrências')\n",
    "plt.title('Média de Ocorrências por Cidade')\n",
    "plt.xticks(rotation=45, ha='right')  # Rotaciona os rótulos do eixo x para melhor legibilidade\n",
    "\n",
    "# Adicionar valores acima das barras com fonte menor \n",
    "for bar in bars:\n",
    "    yval = bar.get_height()\n",
    "    plt.text(bar.get_x() + bar.get_width()/2, yval + 5, round(yval, 1), ha='center', va='bottom', fontsize=9)\n",
    "\n",
    "plt.tight_layout()  # Ajusta o layout para evitar corte de rótulos\n",
    "plt.show()\n"
   ]
  },
  {
   "attachments": {},
   "cell_type": "markdown",
   "metadata": {},
   "source": [
    "Ranking de Cidades (Maiores e Menores taxas em relação a população)\n",
    "###### <h5> <p style=\"text-align: justify; margin-top: 10px; font-size: 14px;\"> Identificando as cidades com as maiores e menores taxas de furtos em relação à população. Isso pode ajudar a focalizar esforços de segurança onde são mais necessários. <p></h5>\n"
   ]
  },
  {
   "cell_type": "code",
   "execution_count": null,
   "metadata": {},
   "outputs": [],
   "source": [
    "import matplotlib.pyplot as plt\n",
    "import pandas as pd\n",
    "\n",
    "# DataFrame\n",
    "df_media_furtos = {\n",
    "    'CID_MUN': [\n",
    "        'BRASILIA', 'GAMA', 'TAGUATINGA', 'BRAZLANDIA',\n",
    "        'SOBRADINHO', 'PLANALTINA', 'PARANOA', 'NUCLEO BANDEIRANTE',\n",
    "        'CEILANDIA', 'GUARA', 'CRUZEIRO', 'SAMAMBAIA',\n",
    "        'SANTA MARIA', 'SAO SEBASTIAO', 'RECANTO DAS EMAS',\n",
    "        'LAGO SUL', 'RIACHO FUNDO', 'LAGO NORTE',\n",
    "        'CANDANGOLANDIA', 'AGUAS CLARAS', 'RIACHO FUNDO 2',\n",
    "        'SUDOESTE', 'VARJAO DO TORTO', 'PARK WAY',\n",
    "        'ESTRUTURAL', 'SOBRADINHO 2', 'JARDIM BOTANICO',\n",
    "        'ITAPOA', 'SIA', 'VICENTE PIRES', 'FERCAL',\n",
    "        'SOL NASCENTE/POR DO SOL', 'ARNIQUEIRA'\n",
    "    ],\n",
    "    'Média': [\n",
    "        682.2, 268.2, 627.8, 45.8, 97.8, 157.6, 72.0, 51.0, 668.4, 159.0,\n",
    "        34.0, 337.0, 164.0, 102.6, 150.6, 24.6, 50.8, 18.0, 11.0, 114.4,\n",
    "        40.8, 39.4, 10.0, 5.8, 50.0, 35.8, 7.4, 75.2, 111.8, 96.4, 8.6,\n",
    "        73.6, 45.6\n",
    "    ]\n",
    "}\n",
    "\n",
    "df_media_furtos = pd.DataFrame(df_media_furtos)\n",
    "\n",
    "# Ordenar o DataFrame pela coluna 'Média'\n",
    "df_media_furtos = df_media_furtos.sort_values(by='Média')\n",
    "\n",
    "# Pegar os 5 maiores e 5 menores\n",
    "top5 = df_media_furtos.tail(5)\n",
    "bottom5 = df_media_furtos.head(5)\n",
    "\n",
    "# Ajustando o espaçamento e o tamanho da fonte para os 5 maiores\n",
    "plt.figure(figsize=(4, 4))\n",
    "bars = plt.bar(top5['CID_MUN'], top5['Média'], color='green', width=0.5)  # Ajuste o valor de width conforme necessário\n",
    "plt.xlabel('Cidades')\n",
    "plt.ylabel('Média de Ocorrências')\n",
    "plt.title('5 Cidades com Maior Média de Ocorrências')\n",
    "plt.xticks(rotation=45, ha='right')\n",
    "\n",
    "# Adicionar valores acima das barras com fonte menor (exemplo: fontsize=8)\n",
    "for bar in bars:\n",
    "    yval = bar.get_height()\n",
    "    plt.text(bar.get_x() + bar.get_width()/2, yval + 2, round(yval, 1), ha='center', va='bottom', fontsize=8)\n",
    "\n",
    "plt.tight_layout()\n",
    "plt.show()\n",
    "\n",
    "# Ajustando o espaçamento e o tamanho da fonte para os 5 menores\n",
    "plt.figure(figsize=(4, 4))\n",
    "bars = plt.bar(bottom5['CID_MUN'], bottom5['Média'], color='red', width=0.5)  # Ajuste o valor de width conforme necessário\n",
    "plt.xlabel('Cidades')\n",
    "plt.ylabel('Média de Ocorrências')\n",
    "plt.title('5 Cidades com Menor Média de Ocorrências')\n",
    "plt.xticks(rotation=45, ha='right')\n",
    "\n",
    "# Adicionar valores acima das barras com fonte menor (exemplo: fontsize=8)\n",
    "for bar in bars:\n",
    "    yval = bar.get_height()\n",
    "    plt.text(bar.get_x() + bar.get_width()/2, yval + 0, round(yval, 1), ha='center', va='bottom', fontsize=8)\n",
    "\n",
    "plt.tight_layout()\n",
    "plt.show()\n"
   ]
  },
  {
   "attachments": {},
   "cell_type": "markdown",
   "metadata": {},
   "source": [
    "Taxa de Furtos em Relação à População\n",
    "<h5> <p style=\"text-align: justify; margin-top: 10px; font-size: 14px;\"> Para entender a incidência relativa em relação à população. Isso ajuda a normalizar os dados em função do tamanho da população. <p><h5>"
   ]
  },
  {
   "cell_type": "code",
   "execution_count": null,
   "metadata": {},
   "outputs": [],
   "source": [
    "gdf_furtos_gsp.head(5)"
   ]
  },
  {
   "attachments": {},
   "cell_type": "markdown",
   "metadata": {},
   "source": [
    "Variação Anual\n",
    "<h5> <p style=\"text-align: justify; margin-top: 10px; font-size: 14px;\"> Analisando a variação percentual anual nos casos de furtos para identificar anos com aumentos ou reduções significativas em relação ao ano anterior.<p></h5>"
   ]
  },
  {
   "cell_type": "code",
   "execution_count": null,
   "metadata": {},
   "outputs": [],
   "source": [
    "import pandas as pd\n",
    "import matplotlib.pyplot as plt\n",
    "\n",
    "# Base de dados\n",
    "dados = {\n",
    "    'CID_MUN': [\"BRASILIA\", \"GAMA\", \"TAGUATINGA\", \"BRAZLANDIA\", \"SOBRADINHO\", \"PLANALTINA\", \"PARANOA\", \"NUCLEO BANDEIRANTE\",\n",
    "                \"CEILANDIA\", \"GUARA\", \"CRUZEIRO\", \"SAMAMBAIA\", \"SANTA MARIA\", \"SAO SEBASTIAO\", \"RECANTO DAS EMAS\", \"LAGO SUL\",\n",
    "                \"RIACHO FUNDO\", \"LAGO NORTE\", \"CANDANGOLANDIA\", \"AGUAS CLARAS\", \"RIACHO FUNDO 2\", \"SUDOESTE\", \"VARJAO DO TORTO\",\n",
    "                \"PARK WAY\", \"ESTRUTURAL\", \"SOBRADINHO 2\", \"JARDIM BOTANICO\", \"ITAPOA\", \"SIA\", \"VICENTE PIRES\", \"FERCAL\",\n",
    "                \"SOL NASCENTE/POR DO SOL\", \"ARNIQUEIRA\"],\n",
    "    'Ocorrências 2018': [1086, 308, 793, 45, 154, 253, 95, 44, 687, 152, 43, 360, 200, 151, 152, 15, 34, 22, 9, 11, 226, 51, 13, 11, 47, 38, 7, 94, 119, 74, 10, 50, 45],\n",
    "    'Ocorrências 2019': [715, 355, 760, 47, 120, 183, 87, 55, 784, 189, 38, 355, 202, 115, 182, 25, 42, 20, 15, 152, 49, 47, 16, 3, 63, 34, 7, 85, 153, 102, 11, 82, 50],\n",
    "    'Ocorrências 2020': [543, 230, 596, 44, 61, 137, 77, 72, 635, 186, 34, 311, 168, 60, 181, 33, 84, 15, 13, 134, 40, 40, 9, 6, 48, 40, 3, 80, 140, 127, 10, 79, 52],\n",
    "    'Ocorrências 2021': [504, 297, 478, 48, 67, 118, 38, 40, 569, 157, 35, 355, 129, 72, 122, 17, 51, 16, 11, 112, 37, 35, 3, 6, 41, 32, 8, 44, 95, 90, 6, 77, 32],\n",
    "    'Ocorrências 2022': [563, 151, 512, 45, 87, 97, 63, 44, 667, 111, 20, 304, 121, 115, 116, 33, 43, 17, 7, 62, 52, 24, 9, 3, 51, 35, 12, 73, 52, 89, 6, 80, 49]\n",
    "}\n",
    "\n",
    "# Criando um DataFrame\n",
    "df = pd.DataFrame(dados)\n",
    "\n",
    "# Calculando as variações percentuais\n",
    "df['2018-2019 %'] = ((df['Ocorrências 2019'] - df['Ocorrências 2018']) / df['Ocorrências 2018']) * 100\n",
    "df['2019-2020 %'] = ((df['Ocorrências 2020'] - df['Ocorrências 2019']) / df['Ocorrências 2019']) * 100\n",
    "df['2020-2021 %'] = ((df['Ocorrências 2021'] - df['Ocorrências 2020']) / df['Ocorrências 2020']) * 100\n",
    "df['2021-2022 %'] = ((df['Ocorrências 2022'] - df['Ocorrências 2021']) / df['Ocorrências 2021']) * 100\n",
    "\n",
    "# Formatando as colunas de porcentagem para duas casas decimais\n",
    "df['2018-2019 %'] = df['2018-2019 %'].map('{:.2f}%'.format)\n",
    "df['2019-2020 %'] = df['2019-2020 %'].map('{:.2f}%'.format)\n",
    "df['2020-2021 %'] = df['2020-2021 %'].map('{:.2f}%'.format)\n",
    "df['2021-2022 %'] = df['2021-2022 %'].map('{:.2f}%'.format)\n",
    "\n",
    "# Criando uma tabela com as porcentagens\n",
    "tabela_porcentagens = df[['CID_MUN', '2018-2019 %', '2019-2020 %', '2020-2021 %', '2021-2022 %']]\n",
    "\n",
    "# Mostrando a tabela\n",
    "print(tabela_porcentagens)\n"
   ]
  },
  {
   "attachments": {},
   "cell_type": "markdown",
   "metadata": {},
   "source": [
    "Análise temporal\n",
    "<h5> <p style=\"text-align: justify; margin-top: 10px; font-size: 14px;\"> Gráficos temporais para visualizar como os casos de furtos variam ao longo do tempo(aumentos e quedas). <p></h5>"
   ]
  },
  {
   "cell_type": "code",
   "execution_count": null,
   "metadata": {},
   "outputs": [],
   "source": [
    "import pandas as pd\n",
    "\n",
    "# Nossa base de dados\n",
    "dados = {\n",
    "    'CID_MUN': [\"BRASILIA\", \"GAMA\", \"TAGUATINGA\", \"BRAZLANDIA\", \"SOBRADINHO\", \"PLANALTINA\", \"PARANOA\", \"NUCLEO BANDEIRANTE\",\n",
    "                \"CEILANDIA\", \"GUARA\", \"CRUZEIRO\", \"SAMAMBAIA\", \"SANTA MARIA\", \"SAO SEBASTIAO\", \"RECANTO DAS EMAS\", \"LAGO SUL\",\n",
    "                \"RIACHO FUNDO\", \"LAGO NORTE\", \"CANDANGOLANDIA\", \"AGUAS CLARAS\", \"RIACHO FUNDO 2\", \"SUDOESTE\", \"VARJAO DO TORTO\",\n",
    "                \"PARK WAY\", \"ESTRUTURAL\", \"SOBRADINHO 2\", \"JARDIM BOTANICO\", \"ITAPOA\", \"SIA\", \"VICENTE PIRES\", \"FERCAL\",\n",
    "                \"SOL NASCENTE/POR DO SOL\", \"ARNIQUEIRA\"],\n",
    "    'Ocorrências 2018': [1086, 308, 793, 45, 154, 253, 95, 44, 687, 152, 43, 360, 200, 151, 152, 15, 34, 22, 9, 11, 226, 51, 13, 11, 47, 38, 7, 94, 119, 74, 10, 50, 45],\n",
    "    'Ocorrências 2019': [715, 355, 760, 47, 120, 183, 87, 55, 784, 189, 38, 355, 202, 115, 182, 25, 42, 20, 15, 152, 49, 47, 16, 3, 63, 34, 7, 85, 153, 102, 11, 82, 50],\n",
    "    'Ocorrências 2020': [543, 230, 596, 44, 61, 137, 77, 72, 635, 186, 34, 311, 168, 60, 181, 33, 84, 15, 13, 134, 40, 40, 9, 6, 48, 40, 3, 80, 140, 127, 10, 79, 52],\n",
    "    'Ocorrências 2021': [504, 297, 478, 48, 67, 118, 38, 40, 569, 157, 35, 355, 129, 72, 122, 17, 51, 16, 11, 112, 37, 35, 3, 6, 41, 32, 8, 44, 95, 90, 6, 77, 32],\n",
    "    'Ocorrências 2022': [563, 151, 512, 45, 87, 97, 63, 44, 667, 111, 20, 304, 121, 115, 116, 33, 43, 17, 7, 62, 52, 24, 9, 3, 51, 35, 12, 73, 52, 89, 6, 80, 49]\n",
    "}\n",
    "\n",
    "# Criando um DataFrame\n",
    "df = pd.DataFrame(dados)\n",
    "\n",
    "# Calculando as variações\n",
    "df['2018-2019'] = df['Ocorrências 2019'] - df['Ocorrências 2018']\n",
    "df['2019-2020'] = df['Ocorrências 2020'] - df['Ocorrências 2019']\n",
    "df['2020-2021'] = df['Ocorrências 2021'] - df['Ocorrências 2020']\n",
    "df['2021-2022'] = df['Ocorrências 2022'] - df['Ocorrências 2021']\n",
    "\n",
    "# Exibindo o DataFrame\n",
    "print(df[['CID_MUN', '2018-2019', '2019-2020', '2020-2021', '2021-2022']])\n"
   ]
  },
  {
   "cell_type": "markdown",
   "metadata": {},
   "source": [
    "Estística Descritiva\n",
    "<h5> <p style=\"text-align: justify; margin-top: 10px; font-size: 14px;\"> Obtendo média, desvio padrão, mínimo, quartis</p><h5>"
   ]
  },
  {
   "cell_type": "code",
   "execution_count": null,
   "metadata": {},
   "outputs": [],
   "source": [
    "import pandas as pd\n",
    "\n",
    "# Criando o DataFrame a partir dos dados fornecidos\n",
    "dados = {\n",
    "    'CID_MUN': [\"BRASILIA\", \"GAMA\", \"TAGUATINGA\", \"BRAZLANDIA\", \"SOBRADINHO\", \"PLANALTINA\", \"PARANOA\", \"NUCLEO BANDEIRANTE\",\n",
    "                \"CEILANDIA\", \"GUARA\", \"CRUZEIRO\", \"SAMAMBAIA\", \"SANTA MARIA\", \"SAO SEBASTIAO\", \"RECANTO DAS EMAS\", \"LAGO SUL\",\n",
    "                \"RIACHO FUNDO\", \"LAGO NORTE\", \"CANDANGOLANDIA\", \"AGUAS CLARAS\", \"RIACHO FUNDO 2\", \"SUDOESTE\", \"VARJAO DO TORTO\",\n",
    "                \"PARK WAY\", \"ESTRUTURAL\", \"SOBRADINHO 2\", \"JARDIM BOTANICO\", \"ITAPOA\", \"SIA\", \"VICENTE PIRES\", \"FERCAL\",\n",
    "                \"SOL NASCENTE/POR DO SOL\", \"ARNIQUEIRA\"],\n",
    "    'Ocorrências 2018': [1086, 308, 793, 45, 154, 253, 95, 44, 687, 152, 43, 360, 200, 151, 152, 15, 34, 22, 9, 11, 226, 51, 13, 11, 47, 38, 7, 94, 119, 74, 10, 50, 45],\n",
    "    'Ocorrências 2019': [715, 355, 760, 47, 120, 183, 87, 55, 784, 189, 38, 355, 202, 115, 182, 25, 42, 20, 15, 152, 49, 47, 16, 3, 63, 34, 7, 85, 153, 102, 11, 82, 50],\n",
    "    'Ocorrências 2020': [543, 230, 596, 44, 61, 137, 77, 72, 635, 186, 34, 311, 168, 60, 181, 33, 84, 15, 13, 134, 40, 40, 9, 6, 48, 40, 3, 80, 140, 127, 10, 79, 52],\n",
    "    'Ocorrências 2021': [504, 297, 478, 48, 67, 118, 38, 40, 569, 157, 35, 355, 129, 72, 122, 17, 51, 16, 11, 112, 37, 35, 3, 6, 41, 32, 8, 44, 95, 90, 6, 77, 32],\n",
    "    'Ocorrências 2022': [563, 151, 512, 45, 87, 97, 63, 44, 667, 111, 20, 304, 121, 115, 116, 33, 43, 17, 7, 62, 52, 24, 9, 3, 51, 35, 12, 73, 52, 89, 6, 80, 49]\n",
    "}\n",
    "\n",
    "df = pd.DataFrame(dados)\n",
    "\n",
    "# Calculando as estatísticas descritivas\n",
    "estatisticas_descritivas = df.describe()\n",
    "\n",
    "# Exibindo as estatísticas descritivas\n",
    "print(estatisticas_descritivas)\n"
   ]
  },
  {
   "cell_type": "code",
   "execution_count": null,
   "metadata": {},
   "outputs": [],
   "source": [
    "import matplotlib.pyplot as plt\n",
    "import pandas as pd\n",
    "\n",
    "# DataFrame\n",
    "dados = {\n",
    "    'CID_MUN': [\"BRASILIA\", \"GAMA\", \"TAGUATINGA\", \"BRAZLANDIA\", \"SOBRADINHO\", \"PLANALTINA\", \"PARANOA\", \"NUCLEO BANDEIRANTE\",\n",
    "                \"CEILANDIA\", \"GUARA\", \"CRUZEIRO\", \"SAMAMBAIA\", \"SANTA MARIA\", \"SAO SEBASTIAO\", \"RECANTO DAS EMAS\", \"LAGO SUL\",\n",
    "                \"RIACHO FUNDO\", \"LAGO NORTE\", \"CANDANGOLANDIA\", \"AGUAS CLARAS\", \"RIACHO FUNDO 2\", \"SUDOESTE\", \"VARJAO DO TORTO\",\n",
    "                \"PARK WAY\", \"ESTRUTURAL\", \"SOBRADINHO 2\", \"JARDIM BOTANICO\", \"ITAPOA\", \"SIA\", \"VICENTE PIRES\", \"FERCAL\",\n",
    "                \"SOL NASCENTE/POR DO SOL\", \"ARNIQUEIRA\"],\n",
    "    'Ocorrências 2018': [1086, 308, 793, 45, 154, 253, 95, 44, 687, 152, 43, 360, 200, 151, 152, 15, 34, 22, 9, 11, 226, 51, 13, 11, 47, 38, 7, 94, 119, 74, 10, 50, 45],\n",
    "    'Ocorrências 2019': [715, 355, 760, 47, 120, 183, 87, 55, 784, 189, 38, 355, 202, 115, 182, 25, 42, 20, 15, 152, 49, 47, 16, 3, 63, 34, 7, 85, 153, 102, 11, 82, 50],\n",
    "    'Ocorrências 2020': [543, 230, 596, 44, 61, 137, 77, 72, 635, 186, 34, 311, 168, 60, 181, 33, 84, 15, 13, 134, 40, 40, 9, 6, 48, 40, 3, 80, 140, 127, 10, 79, 52],\n",
    "    'Ocorrências 2021': [504, 297, 478, 48, 67, 118, 38, 40, 569, 157, 35, 355, 129, 72, 122, 17, 51, 16, 11, 112, 37, 35, 3, 6, 41, 32, 8, 44, 95, 90, 6, 77, 32],\n",
    "    'Ocorrências 2022': [563, 151, 512, 45, 87, 97, 63, 44, 667, 111, 20, 304, 121, 115, 116, 33, 43, 17, 7, 62, 52, 24, 9, 3, 51, 35, 12, 73, 52, 89, 6, 80, 49]\n",
    "}\n",
    "\n",
    "df = pd.DataFrame(dados)\n",
    "\n",
    "# Calculando as estatísticas descritivas\n",
    "estatisticas_descritivas = df.describe()\n",
    "\n",
    "# Criando o gráfico\n",
    "fig, axs = plt.subplots(nrows=1, ncols=5, figsize=(20, 5), sharey=True)\n",
    "\n",
    "# Iterando sobre os anos e criando os gráficos\n",
    "for i, col in enumerate(estatisticas_descritivas.columns):\n",
    "    bars = axs[i].bar(estatisticas_descritivas.index, estatisticas_descritivas[col], yerr=estatisticas_descritivas.loc['std', col], capsize=5)\n",
    "    axs[i].set_title(f'Estatísticas Descritivas - {col}')\n",
    "    axs[i].set_ylabel('Ocorrências')\n",
    "    axs[i].set_xticks(estatisticas_descritivas.index)  # Adicionando esta linha\n",
    "    axs[i].set_xticklabels(estatisticas_descritivas.index, rotation=45, ha='right')\n",
    "\n",
    "    # Adicionando rótulos sobre as barras com um ajuste para cima\n",
    "    for bar in bars:\n",
    "        height = bar.get_height()\n",
    "        axs[i].text(bar.get_x() + bar.get_width() / 2, height + 10, f'{height:.0f}', ha='center', va='bottom')\n",
    "\n",
    "plt.tight_layout()\n",
    "plt.show()\n"
   ]
  },
  {
   "cell_type": "markdown",
   "metadata": {},
   "source": [
    "Variação"
   ]
  },
  {
   "cell_type": "code",
   "execution_count": null,
   "metadata": {},
   "outputs": [],
   "source": [
    "import pandas as pd\n",
    "import matplotlib.pyplot as plt\n",
    "\n",
    "# Carregar dados\n",
    "df = pd.DataFrame(dados)\n",
    "\n",
    "# Criar gráfico de linha para cada cidade\n",
    "cidades = df['CID_MUN'].unique()\n",
    "num_cidades = len(cidades)\n",
    "num_graficos_por_linha = 4\n",
    "num_linhas = (num_cidades + num_graficos_por_linha - 1) // num_graficos_por_linha\n",
    "\n",
    "for i, cidade in enumerate(cidades):\n",
    "    if i % num_graficos_por_linha == 0:\n",
    "        fig, axs = plt.subplots(1, num_graficos_por_linha, figsize=(15, 5))\n",
    "    ax = axs[i % num_graficos_por_linha]\n",
    "    valores_ocorrencias = df[df['CID_MUN'] == cidade][['Ocorrências 2018', 'Ocorrências 2019', 'Ocorrências 2020', 'Ocorrências 2021', 'Ocorrências 2022']].values.flatten()\n",
    "    valores_ocorrencias = pd.to_numeric(valores_ocorrencias, errors='coerce')\n",
    "    ax.plot([2018, 2019, 2020, 2021, 2022], valores_ocorrencias)\n",
    "    ax.set_title(cidade)\n",
    "    ax.set_xlabel('Ano')\n",
    "    ax.set_ylabel('Número de Ocorrências')\n",
    "    ax.tick_params(axis='x', rotation=45)\n",
    "    ax.set_xticks([2018, 2019, 2020, 2021, 2022])\n",
    "    ax.set_xticklabels(['2018', '2019', '2020', '2021', '2022'])\n",
    "\n",
    "plt.show()\n",
    "\n",
    "\n"
   ]
  }
 ],
 "metadata": {
  "kernelspec": {
   "display_name": "Python 3",
   "language": "python",
   "name": "python3"
  },
  "language_info": {
   "codemirror_mode": {
    "name": "ipython",
    "version": 3
   },
   "file_extension": ".py",
   "mimetype": "text/x-python",
   "name": "python",
   "nbconvert_exporter": "python",
   "pygments_lexer": "ipython3",
   "version": "3.12.0"
  }
 },
 "nbformat": 4,
 "nbformat_minor": 2
}
